{
 "cells": [
  {
   "cell_type": "code",
   "execution_count": 1,
   "id": "1e48017c",
   "metadata": {},
   "outputs": [],
   "source": [
    "import numpy as np\n",
    "import matplotlib.pyplot as plt \n",
    "import scienceplots # pip install scienceplots\n",
    "plt.style.use([\"science\", \"notebook\", \"grid\"])\n",
    "plt.rcParams[\"text.usetex\"] = True"
   ]
  },
  {
   "cell_type": "markdown",
   "id": "02903256",
   "metadata": {},
   "source": [
    "## Rotating diatomic molecule partition function."
   ]
  },
  {
   "cell_type": "markdown",
   "id": "f7584dc0",
   "metadata": {},
   "source": [
    "A rotating diatomic molecule has a set of degenerate rotational energy levels,\n",
    "$$\\epsilon_{j}=\\frac{\\hbar^{2}}{2I}j(j+1),\\space j=0,1,2,...,$$\n",
    "where $I$ is the moment of intertia,\n",
    "$$I=\\mu d^{2}$$\n",
    "The degeneracy of these levels is mathematically expressed as,\n",
    "$$g_{j}=2j+1$$\n",
    "Considering the definition of the partition function for one molecule,\n",
    "$$Z_{1}^{r}=\\Sigma_{j}g_{j}e^{-\\beta \\epsilon_{j}}$$\n",
    "by defining the characteristic rotational temperature,\n",
    "$$\\theta_{r}=\\frac{\\hbar^{2}}{2Ik_{B}},$$\n",
    "the partition function $Z_{1}^{r}$ takes the form,\n",
    "$$Z_{1}^{r}(T)=\\Sigma_{j=0}^{\\infty}(2j+1)e^{-\\frac{\\theta_{r}}{T}j(j+1)}$$"
   ]
  },
  {
   "cell_type": "markdown",
   "id": "6d714dba",
   "metadata": {},
   "source": [
    "## Average rotational energy and heat capacity."
   ]
  },
  {
   "cell_type": "markdown",
   "id": "f6ca62a7",
   "metadata": {},
   "source": [
    "The average energy of a molecule can be expressed in the form,\n",
    "$$<\\epsilon_{1}>=-\\frac{\\partial lnZ_{1}^{r}}{\\partial\\beta}=-\\frac{1}{Z_{1}^{r}}\\frac{\\partial Z_{1}^{r}}{\\partial\\beta},$$\n",
    "while the total energy due to rotation will be equal to,\n",
    "$$E_{r}=N<\\epsilon_{1}>$$\n",
    "Finally, the total heat capacity due to rotation will be expressed as,\n",
    "$$C_{V}^{r}=\\left(\\frac{\\partial E_{r}}{\\partial T}\\right)_{V}=\\frac{1}{k_{B}T^{2}}\\left(-\\frac{\\left(Z_{1}^{r}{'}\\right)^{2}-Z_{1}^{r} \\left(Z_{1}^{r}{''}\\right)}{\\left(Z_{1}^{r}\\right)^{2}} \\right),$$\n",
    "where,\n",
    "$$Z_{1}^{r}{'}=\\frac{\\partial Z_{1}^{r}}{\\partial\\beta}=(-k_{B}T)\\Sigma_{j=0}^{\\infty}j(j+1)(2j+1)e^{-\\frac{\\theta_{r}}{T}j(j+1)}$$\n",
    "and\n",
    "$$Z_{1}^{r}{''}=\\frac{\\partial^{2}Z_{1}^{r}}{\\partial\\beta^{2}}=(k_{B}T)^{2}\\Sigma_{j=0}^{\\infty}j^{2}(j+1)^{2}(2j+1)e^{-\\frac{\\theta_{r}}{T}j(j+1)}$$\n",
    "\n",
    "The dimensionless quantities,\n",
    "$${\\tilde{Z_{1}^{r}}}{'}\\equiv\\frac{Z_{1}^{r}{'}}{-k_{B}T}=\\Sigma_{j=0}^{\\infty}j(j+1)(2j+1)e^{-\\frac{\\theta_{r}}{T}j(j+1)}$$\n",
    "and\n",
    "$${\\tilde{Z_{1}^{r}}}{''}\\equiv\\frac{Z_{1}^{r}{''}}{(k_{B}T)^{2}}=\\Sigma_{j=0}^{\\infty}j^{2}(j+1)^{2}(2j+1)e^{-\\frac{\\theta_{r}}{T}j(j+1)}$$\n",
    "can be defined so as to get the final dimensionless rotational heat capacity,\n",
    "$$\\frac{C_{V}^{r}}{R}=\\left(\\frac{\\theta_{\\pi}}{T}\\right)^{2}\\left(-\\frac{\\left({\\tilde{Z_{1}^{r}}}{'}\\right)^{2}-Z_{1}^{r}{\\tilde{Z_{1}^{r}}}{''}}{\\left(Z_{1}^{r}\\right)^{2}}\\right)$$"
   ]
  },
  {
   "cell_type": "code",
   "execution_count": 2,
   "id": "e802b657",
   "metadata": {},
   "outputs": [],
   "source": [
    "# Defining all the functions needed to get to Cv.\n",
    "\n",
    "def r(T, t): return t / T # T is the temperature of the gas, while t is the characteristic rotational temperature.\n",
    "\n",
    "def Z1j(T, t, j):\n",
    "    \n",
    "    return ((2*j + 1) * np.exp(-r(T, t) * j * (j + 1)))\n",
    "\n",
    "def dZ1j(T, t, j):\n",
    "    \n",
    "    return (j * (j + 1) * (2*j + 1) * np.exp(-r(T, t) * j * (j + 1)))\n",
    "\n",
    "def d2Z1j(T, t, j):\n",
    "    \n",
    "    return ((j**2) * ((j+1)**2) * (2*j + 1) * np.exp(-r(T, t) * j * (j+1)))\n",
    "\n",
    "def Cv(T, t, j_max):\n",
    "    \n",
    "    Z1 = 0 ; dZ1 = 0 ; d2Z1 = 0\n",
    "    \n",
    "    for j in range(j_max):\n",
    "        Z1 += Z1j(T, t, j)\n",
    "        dZ1 += dZ1j(T, t, j)\n",
    "        d2Z1 += d2Z1j(T, t, j)\n",
    "    \n",
    "    return -(r(T, t)**2) * ((dZ1**2) - d2Z1 * Z1) / (Z1**2)"
   ]
  },
  {
   "cell_type": "code",
   "execution_count": 4,
   "id": "d92fd801",
   "metadata": {},
   "outputs": [
    {
     "data": {
      "image/png": "[encoded data removed]",
      "text/plain": [
       "<Figure size 500x400 with 1 Axes>"
      ]
     },
     "metadata": {},
     "output_type": "display_data"
    }
   ],
   "source": [
    "fig, ax = plt.subplots(1, 1, figsize=(5, 4), tight_layout=True)\n",
    "\n",
    "T = np.linspace(0.001, 1200, 2000)\n",
    "\n",
    "ax.plot(T, Cv(T, 32, 1000), color = \"black\", label = r\"$\\theta_{r}=32K$\")\n",
    "ax.set_xlabel(\"T [K]\") ; ax.set_ylabel(r\"$\\frac{C_{V}^{r}}{R}$\") ; ax.set_title(\"Rotational heat capacity\")\n",
    "ax.legend(loc = \"lower right\") ; plt.rcParams[\"lines.linewidth\"] = 0.8\n",
    "plt.savefig(\"Rotational heat capacity.pdf\", dpi=150)\n",
    "plt.show()"
   ]
  },
  {
   "cell_type": "code",
   "execution_count": 5,
   "id": "2b553fd8",
   "metadata": {},
   "outputs": [
    {
     "data": {
      "text/plain": [
       "1.0197144165717626"
      ]
     },
     "execution_count": 5,
     "metadata": {},
     "output_type": "execute_result"
    }
   ],
   "source": [
    "Cv(20, 32, 1000) # Value at 20K."
   ]
  },
  {
   "cell_type": "code",
   "execution_count": 6,
   "id": "5f71b37b",
   "metadata": {},
   "outputs": [
    {
     "data": {
      "text/plain": [
       "1.000023323793392"
      ]
     },
     "execution_count": 6,
     "metadata": {},
     "output_type": "execute_result"
    }
   ],
   "source": [
    "Cv(1000, 32, 1000) # Value at 1000K."
   ]
  }
 ],
 "metadata": {
  "kernelspec": {
   "display_name": "Python 3 (ipykernel)",
   "language": "python",
   "name": "python3"
  },
  "language_info": {
   "codemirror_mode": {
    "name": "ipython",
    "version": 3
   },
   "file_extension": ".py",
   "mimetype": "text/x-python",
   "name": "python",
   "nbconvert_exporter": "python",
   "pygments_lexer": "ipython3",
   "version": "3.9.15"
  }
 },
 "nbformat": 4,
 "nbformat_minor": 5
}
